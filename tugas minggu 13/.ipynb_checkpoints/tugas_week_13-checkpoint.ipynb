{
 "cells": [
  {
   "cell_type": "code",
   "execution_count": 1,
   "id": "8b7b8c72-0c46-434d-b9cf-d5a6c8216050",
   "metadata": {},
   "outputs": [
    {
     "name": "stdin",
     "output_type": "stream",
     "text": [
      "Masukkan jumlah kategori:  3\n",
      "Masukkan nama kategori:  game\n"
     ]
    },
    {
     "name": "stdout",
     "output_type": "stream",
     "text": [
      "Masukkan 5 nama aplikasi di kategori game\n"
     ]
    },
    {
     "name": "stdin",
     "output_type": "stream",
     "text": [
      "Nama aplikasi:  Clash of clans\n",
      "Nama aplikasi:  Candy Crush\n",
      "Nama aplikasi:  Minecraft\n",
      "Nama aplikasi:  PUBG\n",
      "Nama aplikasi:  Roblox\n",
      "Masukkan nama kategori:  Produktivitas\n"
     ]
    },
    {
     "name": "stdout",
     "output_type": "stream",
     "text": [
      "Masukkan 5 nama aplikasi di kategori Produktivitas\n"
     ]
    },
    {
     "name": "stdin",
     "output_type": "stream",
     "text": [
      "Nama aplikasi:  word\n",
      "Nama aplikasi:  excel\n",
      "Nama aplikasi:  Trello\n",
      "Nama aplikasi:  Notion\n",
      "Nama aplikasi:  Slack\n",
      "Masukkan nama kategori:  Media Sosial\n"
     ]
    },
    {
     "name": "stdout",
     "output_type": "stream",
     "text": [
      "Masukkan 5 nama aplikasi di kategori Media Sosial\n"
     ]
    },
    {
     "name": "stdin",
     "output_type": "stream",
     "text": [
      "Nama aplikasi:  facebook\n",
      "Nama aplikasi:  instagram\n",
      "Nama aplikasi:  twitter\n",
      "Nama aplikasi:  snapchat\n",
      "Nama aplikasi:  tiktok\n"
     ]
    },
    {
     "name": "stdout",
     "output_type": "stream",
     "text": [
      "{'game': ['Clash of clans', 'Candy Crush', 'Minecraft', 'PUBG', 'Roblox'], 'Produktivitas': ['word', 'excel', 'Trello', 'Notion', 'Slack'], 'Media Sosial': ['facebook', 'instagram', 'twitter', 'snapchat', 'tiktok']}\n",
      "\n",
      "Aplikasi yang muncul di semua kategori: set()\n",
      "\n",
      "Aplikasi yang hanya muncul di satu kategori: {'Clash of clans', 'Slack', 'Roblox', 'excel', 'Trello', 'Candy Crush', 'instagram', 'twitter', 'word', 'PUBG', 'snapchat', 'facebook', 'Notion', 'tiktok', 'Minecraft'}\n",
      "Aplikasi yang muncul tepat di dua kategori: set()\n"
     ]
    }
   ],
   "source": [
    "n = int(input('Masukkan jumlah kategori: '))\n",
    "\n",
    "data_aplikasi = {}\n",
    "\n",
    "for i in range(n):\n",
    "    nama_kategori = input('Masukkan nama kategori: ')\n",
    "    print(f'Masukkan 5 nama aplikasi di kategori {nama_kategori}')\n",
    "    \n",
    "    aplikasi = []\n",
    "    for j in range(5):\n",
    "        nama_aplikasi = input('Nama aplikasi: ')\n",
    "        aplikasi.append(nama_aplikasi)\n",
    "    data_aplikasi[nama_kategori] = aplikasi\n",
    "\n",
    "print(data_aplikasi)\n",
    "\n",
    "daftar_aplikasi_list = []\n",
    "for aplikasi in data_aplikasi.values():\n",
    "    daftar_aplikasi_list.append(set(aplikasi))\n",
    "\n",
    "hasil = daftar_aplikasi_list[0]\n",
    "for i in range(1, len(daftar_aplikasi_list)):\n",
    "    hasil = hasil.intersection(daftar_aplikasi_list[i])\n",
    "\n",
    "print('\\nAplikasi yang muncul di semua kategori:', hasil)\n",
    "\n",
    "semua = set()\n",
    "\n",
    "aplikasi_unik = set()\n",
    "for aplikasi in daftar_aplikasi_list:\n",
    "    semua = semua.union(aplikasi)\n",
    "\n",
    "for aplikasi in semua:\n",
    "    count = 0\n",
    "    for kategori in daftar_aplikasi_list:\n",
    "        if aplikasi in kategori:\n",
    "            count += 1\n",
    "    if count == 1:\n",
    "        aplikasi_unik.add(aplikasi)\n",
    "\n",
    "print('\\nAplikasi yang hanya muncul di satu kategori:', aplikasi_unik)\n",
    "\n",
    "dua_kategori = set()\n",
    "for aplikasi in semua:\n",
    "    count = 0\n",
    "    for kategori in daftar_aplikasi_list:\n",
    "        if aplikasi in kategori:\n",
    "            count += 1\n",
    "    if count == 2:\n",
    "        dua_kategori.add(aplikasi)\n",
    "\n",
    "print('Aplikasi yang muncul tepat di dua kategori:', dua_kategori)"
   ]
  },
  {
   "cell_type": "code",
   "execution_count": null,
   "id": "87e8ae03-405d-4ca8-8065-c72e22af666e",
   "metadata": {},
   "outputs": [],
   "source": [
    "data1 = [1, 'a', 2, 'b', 3, 'c', 4, 'a', 5, 'b']\n",
    "print(\"List sebelum konversi:\", data1)\n",
    "set_dari_list = set(data1)\n",
    "print(\"Set setelah konversi dari List:\", set_dari_list)\n",
    "\n",
    "data2 = {1, 'a', 2, 'b', 3, 'c', 4, 5}\n",
    "print(\"\\nSet sebelum konversi:\", data2)\n",
    "list_dari_set = list(data2)\n",
    "print(\"List setelah konversi dari Set:\", list_dari_set)\n",
    "\n",
    "data3 = (1, 'a', 2, 'b', 3, 'c', 4, 'a', 5, 'b')\n",
    "print(\"\\nTuple sebelum konversi:\", data3)\n",
    "set_dari_tuple = set(data3)\n",
    "print(\"Set setelah konversi dari Tuple:\", set_dari_tuple)\n",
    "\n",
    "data4 = {1, 'a', 2, 'b', 3, 'c', 4, 5}\n",
    "print(\"\\nSet sebelum konversi:\", data4)\n",
    "tuple_dari_set = tuple(data4)\n",
    "print(\"Tuple setelah konversi dari Set:\", tuple_dari_set)"
   ]
  },
  {
   "cell_type": "code",
   "execution_count": null,
   "id": "c01362fd-9c75-4950-a552-aa55cce9ea58",
   "metadata": {},
   "outputs": [],
   "source": [
    "file1 = input(\"nama file pertama: \")\n",
    "file2 = input(\"nama file kedua: \")\n",
    "\n",
    "kataFile1 = set()\n",
    "kataFile2 = set()\n",
    "\n",
    "try:\n",
    "    with open(file1, 'r') as file1:\n",
    "        kataFile1 = set(file1.read().lower().split())\n",
    "\n",
    "    with open(file2, 'r') as file2:\n",
    "        kataFile2 = set(file2.read().lower().split())\n",
    "\n",
    "    kataKedua = kataFile1.intersection(kataFile2)\n",
    "    if kataKedua:\n",
    "        print(\"Kata-kata yang muncul di kedua file:\")\n",
    "        for kata in kataKedua:\n",
    "            print(kata)\n",
    "    else:\n",
    "        print(\"Tidak ada kata yang sama di kedua file.\")\n",
    "\n",
    "except FileNotFoundError:\n",
    "    print(\"Error: File tidak ditemukan.\")\n",
    "except IOError:\n",
    "    print(\"Error: Tidak bisa membaca file.\")\n"
   ]
  }
 ],
 "metadata": {
  "kernelspec": {
   "display_name": "Python 3 (ipykernel)",
   "language": "python",
   "name": "python3"
  },
  "language_info": {
   "codemirror_mode": {
    "name": "ipython",
    "version": 3
   },
   "file_extension": ".py",
   "mimetype": "text/x-python",
   "name": "python",
   "nbconvert_exporter": "python",
   "pygments_lexer": "ipython3",
   "version": "3.12.1"
  }
 },
 "nbformat": 4,
 "nbformat_minor": 5
}
