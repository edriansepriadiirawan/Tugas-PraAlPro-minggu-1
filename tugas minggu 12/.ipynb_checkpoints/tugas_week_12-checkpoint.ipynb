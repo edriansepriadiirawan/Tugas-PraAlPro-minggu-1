{
 "cells": [
  {
   "cell_type": "code",
   "execution_count": 28,
   "id": "9a66c1cb-bdb3-4547-841f-318dd1d3a01b",
   "metadata": {},
   "outputs": [
    {
     "name": "stdout",
     "output_type": "stream",
     "text": [
      "False\n"
     ]
    }
   ],
   "source": [
    "tA = (90, 90, 90, 90)\n",
    "sama = True\n",
    "\n",
    "for i in range(1, len(tA)):\n",
    "    if tA[i] != tA[0]:\n",
    "        sama = False\n",
    "        break\n",
    "\n",
    "if sama:\n",
    "    print(\"True\")\n",
    "else:\n",
    "    print(\"False\")"
   ]
  },
  {
   "cell_type": "code",
   "execution_count": 5,
   "id": "9b44cb6d-0376-413e-9f95-6148e31269be",
   "metadata": {},
   "outputs": [
    {
     "name": "stdin",
     "output_type": "stream",
     "text": [
      "Masukkan NIM anda :  71231011\n",
      "Masukkan nama lengkap anda:  edrian sepriadi irawan\n",
      "Masukkan alamat anda :  bantul,yogyakarta\n"
     ]
    },
    {
     "name": "stdout",
     "output_type": "stream",
     "text": [
      "\n",
      "data :  ('edrian sepriadi irawan', 71231011, 'bantul,yogyakarta')\n",
      "\n",
      "NIM    :  71231011\n",
      "NAMA   :  edrian sepriadi irawan\n",
      "ALAMAT :  bantul,yogyakarta\n",
      "\n",
      "NIM: ('7', '1', '2', '3', '1', '0', '1', '1')\n",
      "NAMA DEPAN: ('d', 'r', 'i', 'a', 'n')\n",
      "NAMA TERBALIK: ('irawan', 'sepriadi', 'edrian')\n"
     ]
    }
   ],
   "source": [
    "try:\n",
    "    nim = int(input(\"Masukkan NIM anda : \"))\n",
    "except:\n",
    "    print(\"Silahkan masukkan angka untuk NIM.\")\n",
    "else:  \n",
    "    try:\n",
    "        nama_lengkap = input(\"Masukkan nama lengkap anda: \")\n",
    "        if not nama_lengkap.replace(\" \",\"\").isalpha():\n",
    "            raise ValueError\n",
    "    except:\n",
    "        print(\"inputan salah!\\nNama lengkap hanya boleh terdiri dari huruf.\")\n",
    "    else:\n",
    "        alamat = input(\"Masukkan alamat anda : \")\n",
    "            \n",
    "        data = (nama_lengkap, nim, alamat)\n",
    "        print(\"\\ndata : \", data)\n",
    "        print(\"\\nNIM    : \", nim)\n",
    "        print(\"NAMA   : \", nama_lengkap)\n",
    "        print(\"ALAMAT : \",alamat)\n",
    "                            \n",
    "        nim = tuple(str(nim))\n",
    "        nama_depan = tuple(nama_lengkap.split()[0].lower()[1:])\n",
    "        nama_terbalik = tuple(reversed(nama_lengkap.split()))\n",
    "                            \n",
    "        print(\"\\nNIM:\", nim)\n",
    "        print(\"NAMA DEPAN:\", nama_depan)        \n",
    "        print(\"NAMA TERBALIK:\", nama_terbalik)"
   ]
  },
  {
   "cell_type": "code",
   "execution_count": 1,
   "id": "9fe0e70e-88ef-424f-a537-7a06e561b069",
   "metadata": {},
   "outputs": [
    {
     "name": "stdin",
     "output_type": "stream",
     "text": [
      "enter a file name:  mbox-short.txt\n"
     ]
    },
    {
     "name": "stdout",
     "output_type": "stream",
     "text": [
      "04 3\n",
      "06 1\n",
      "07 1\n",
      "09 2\n",
      "10 3\n",
      "11 6\n",
      "14 1\n",
      "15 2\n",
      "16 4\n",
      "17 2\n",
      "18 1\n",
      "19 1\n"
     ]
    }
   ],
   "source": [
    "try:\n",
    "    namaFile = input(\"enter a file name: \")\n",
    "    with open(namaFile, 'r') as file:\n",
    "        dist_jam = {}\n",
    "\n",
    "        for baris in file:\n",
    "            if baris.startswith(\"From \"):\n",
    "                kata = baris.split()\n",
    "                jam = kata[5].split(':')[0]\n",
    "                dist_jam[jam] = dist_jam.get(jam, 0) + 1\n",
    "                \n",
    "    for jam, jumlah in sorted(dist_jam.items()):\n",
    "        print(jam, jumlah)\n",
    "\n",
    "except:\n",
    "    print(\"File tidak ditemukan.\")"
   ]
  }
 ],
 "metadata": {
  "kernelspec": {
   "display_name": "Python 3 (ipykernel)",
   "language": "python",
   "name": "python3"
  },
  "language_info": {
   "codemirror_mode": {
    "name": "ipython",
    "version": 3
   },
   "file_extension": ".py",
   "mimetype": "text/x-python",
   "name": "python",
   "nbconvert_exporter": "python",
   "pygments_lexer": "ipython3",
   "version": "3.12.1"
  }
 },
 "nbformat": 4,
 "nbformat_minor": 5
}
