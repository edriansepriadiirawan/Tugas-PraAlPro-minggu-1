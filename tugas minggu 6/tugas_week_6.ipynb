{
 "cells": [
  {
   "cell_type": "code",
   "execution_count": 12,
   "id": "7f766194-e94b-4e41-beee-6fa848250924",
   "metadata": {},
   "outputs": [
    {
     "name": "stdin",
     "output_type": "stream",
     "text": [
      "masukkan bilangan :  12\n"
     ]
    },
    {
     "name": "stdout",
     "output_type": "stream",
     "text": [
      "bilangan prima terdekat dari 12 adalah 11\n"
     ]
    }
   ],
   "source": [
    "n = int(input(\"masukkan bilangan : \"))\n",
    "\n",
    "for i in range(n-1, 1, -1):\n",
    "    prima = True\n",
    "    for j in range(2, int(i/2) + 1):\n",
    "        if i % j == 0:\n",
    "            prima = False\n",
    "            break\n",
    "    if prima:\n",
    "        print(\"bilangan prima terdekat dari\", n, \"adalah\", i)\n",
    "        break"
   ]
  },
  {
   "cell_type": "code",
   "execution_count": 20,
   "id": "cdafe251-7ec3-4516-b233-2e9025bbc44b",
   "metadata": {},
   "outputs": [
    {
     "name": "stdin",
     "output_type": "stream",
     "text": [
      "n =  6\n"
     ]
    },
    {
     "name": "stdout",
     "output_type": "stream",
     "text": [
      "720 6 5 4 3 2 1 \n",
      "120 5 4 3 2 1 \n",
      "24 4 3 2 1 \n",
      "6 3 2 1 \n",
      "2 2 1 \n",
      "1 1 \n"
     ]
    }
   ],
   "source": [
    "n = int(input(\"n = \"))\n",
    "\n",
    "for i in range(n, 0, -1):\n",
    "    hasil = 1\n",
    "    deret = \"\"\n",
    "    for j in range(i, 0, -1):\n",
    "        hasil *= j\n",
    "        deret += str(j) + \" \"\n",
    "    print(hasil, deret, end=\"\")\n",
    "    print()"
   ]
  },
  {
   "cell_type": "code",
   "execution_count": 21,
   "id": "0cf4eeb4-a7cd-4d4d-a495-0bd7c65394b5",
   "metadata": {},
   "outputs": [
    {
     "name": "stdin",
     "output_type": "stream",
     "text": [
      "Tinggi =  5\n",
      "Lebar =  4\n"
     ]
    },
    {
     "name": "stdout",
     "output_type": "stream",
     "text": [
      "1 2 3 4 \n",
      "5 6 7 8 \n",
      "9 10 11 12 \n",
      "13 14 15 16 \n",
      "17 18 19 20 \n"
     ]
    }
   ],
   "source": [
    "tinggi = int(input(\"Tinggi = \"))\n",
    "lebar = int(input(\"Lebar = \")) \n",
    "\n",
    "mulai = 1\n",
    "for i in range(tinggi):\n",
    "    for j in range(lebar):\n",
    "        print(mulai, end=' ')\n",
    "        mulai += 1\n",
    "    print()"
   ]
  },
  {
   "cell_type": "code",
   "execution_count": null,
   "id": "8cca3372-91f3-4202-ab6a-d628bc6633db",
   "metadata": {},
   "outputs": [],
   "source": []
  }
 ],
 "metadata": {
  "kernelspec": {
   "display_name": "Python 3 (ipykernel)",
   "language": "python",
   "name": "python3"
  },
  "language_info": {
   "codemirror_mode": {
    "name": "ipython",
    "version": 3
   },
   "file_extension": ".py",
   "mimetype": "text/x-python",
   "name": "python",
   "nbconvert_exporter": "python",
   "pygments_lexer": "ipython3",
   "version": "3.12.1"
  }
 },
 "nbformat": 4,
 "nbformat_minor": 5
}
