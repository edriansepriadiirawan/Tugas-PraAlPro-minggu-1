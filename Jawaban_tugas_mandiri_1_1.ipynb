{
 "cells": [
  {
   "cell_type": "code",
   "execution_count": 10,
   "id": "b2925c73-5cab-43e9-bbb1-a073419e65a7",
   "metadata": {},
   "outputs": [
    {
     "name": "stdout",
     "output_type": "stream",
     "text": [
      "soal 1\n",
      "keuntungan yang didapat oleh Gerard adalah Rp.875000 dengan persentase keuntungan 5%\n",
      "soal 2\n",
      "keuntungan yang didapat oleh Gerard setelah harga naik dan membeli 15 gram lagi adalah Rp.2075000 dengan persentase keuntungan 8%\n"
     ]
    }
   ],
   "source": [
    "be_awal, ha_awal, hs, bb, hb = 25, 650000, 685000, 15, 715000\n",
    "\n",
    "k1 = (hs - ha_awal) * be_awal\n",
    "p1 = int(round((k1 / (ha_awal * be_awal)) * 100))\n",
    "\n",
    "total_berat = be_awal + bb\n",
    "total_harga = be_awal * ha_awal + bb * hs\n",
    "k2 = (total_berat * hb) - total_harga\n",
    "p2 = int(round((k2 / total_harga) * 100))\n",
    "\n",
    "print(\"soal 1 :\")\n",
    "print(f\"keuntungan yang didapat oleh Gerard adalah Rp.{k1} dengan persentase keuntungan {p1}%\")\n",
    "print(\"soal 2 :\")\n",
    "print(f\"keuntungan yang didapat oleh Gerard setelah harga naik dan membeli 15 gram lagi adalah Rp.{k2} dengan persentase keuntungan {p2}%\")"
   ]
  }
 ],
 "metadata": {
  "kernelspec": {
   "display_name": "Python 3 (ipykernel)",
   "language": "python",
   "name": "python3"
  },
  "language_info": {
   "codemirror_mode": {
    "name": "ipython",
    "version": 3
   },
   "file_extension": ".py",
   "mimetype": "text/x-python",
   "name": "python",
   "nbconvert_exporter": "python",
   "pygments_lexer": "ipython3",
   "version": "3.12.1"
  }
 },
 "nbformat": 4,
 "nbformat_minor": 5
}
