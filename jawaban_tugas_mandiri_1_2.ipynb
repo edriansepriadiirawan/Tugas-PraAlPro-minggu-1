{
 "cells": [
  {
   "cell_type": "code",
   "execution_count": null,
   "id": "2b194c3d-9901-4d67-92af-618f18e2b953",
   "metadata": {},
   "outputs": [],
   "source": [
    "duitAwal = 200000000\n",
    "duitAkhir = 400000000\n",
    "bunga = 0.10\n",
    "bungaPertahun = 1\n",
    "periode = 0\n",
    "\n",
    "while duitAwal < duitAkhir:\n",
    "    duitAwal = duitAwal * (1 + bunga / bungaPertahun)\n",
    "    periode += 1\n",
    "\n",
    "print(\"Waktu yang dibutuhkan untuk mencapai uang akhir:\",periode,\"tahun\")"
   ]
  }
 ],
 "metadata": {
  "kernelspec": {
   "display_name": "Python 3 (ipykernel)",
   "language": "python",
   "name": "python3"
  },
  "language_info": {
   "codemirror_mode": {
    "name": "ipython",
    "version": 3
   },
   "file_extension": ".py",
   "mimetype": "text/x-python",
   "name": "python",
   "nbconvert_exporter": "python",
   "pygments_lexer": "ipython3",
   "version": "3.12.1"
  }
 },
 "nbformat": 4,
 "nbformat_minor": 5
}
