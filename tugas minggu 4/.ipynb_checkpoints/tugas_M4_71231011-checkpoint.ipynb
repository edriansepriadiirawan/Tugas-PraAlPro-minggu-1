{
 "cells": [
  {
   "cell_type": "code",
   "execution_count": 23,
   "id": "5ce93586-5ea0-4c6e-aec5-96747dbfac81",
   "metadata": {},
   "outputs": [
    {
     "name": "stdin",
     "output_type": "stream",
     "text": [
      "Masukkan bilangan pertama:  12\n",
      "Masukkan bilangan kedua:  3\n",
      "Masukkan bilangan ketiga:  15\n"
     ]
    },
    {
     "name": "stdout",
     "output_type": "stream",
     "text": [
      "True\n"
     ]
    }
   ],
   "source": [
    "try :\n",
    "    def cek_angka():\n",
    "            \n",
    "            a = int(input(\"Masukkan bilangan pertama: \"))\n",
    "            b = int(input(\"Masukkan bilangan kedua: \"))\n",
    "            c = int(input(\"Masukkan bilangan ketiga: \"))\n",
    "\n",
    "            if a != b and a != c and b != c:\n",
    "                if a + b == c or a + c == b or b + c == a:\n",
    "                    return True\n",
    "                else:\n",
    "                    return False\n",
    "            else :\n",
    "                return False\n",
    "\n",
    "    hasil = cek_angka()\n",
    "    print(hasil)\n",
    "except:\n",
    "     print(\"salah input data, silahkan masukkan angka\")"
   ]
  },
  {
   "cell_type": "code",
   "execution_count": 32,
   "id": "480fe3df-ab21-4c9f-9b03-35e8bf5bee52",
   "metadata": {},
   "outputs": [
    {
     "name": "stdin",
     "output_type": "stream",
     "text": [
      "Masukkan bilangan pertama:  dc\n"
     ]
    },
    {
     "name": "stdout",
     "output_type": "stream",
     "text": [
      "kesalahan input. silahkan input bilangan\n"
     ]
    }
   ],
   "source": [
    "try:\n",
    "    def cek_digit_belakang():\n",
    "        \n",
    "        a = int(input(\"Masukkan bilangan pertama: \"))\n",
    "        b = int(input(\"Masukkan bilangan kedua: \"))\n",
    "        c = int(input(\"Masukkan bilangan ketiga: \"))\n",
    "    \n",
    "        pertama = a % 10\n",
    "        kedua =  b % 10\n",
    "        ketiga = c % 10\n",
    "    \n",
    "        if (pertama == kedua and pertama != ketiga) or (pertama == ketiga and pertama != kedua) or (kedua == ketiga and kedua != pertama):\n",
    "            return True\n",
    "        else :\n",
    "            return False\n",
    "    print(cek_digit_belakang())\n",
    "except:\n",
    "    print(\"kesalahan input. silahkan input bilangan\")"
   ]
  },
  {
   "cell_type": "code",
   "execution_count": 6,
   "id": "96bf6ac3-00ae-4f2e-b5c1-e32c53811a7a",
   "metadata": {},
   "outputs": [
    {
     "name": "stdin",
     "output_type": "stream",
     "text": [
      "Masukkan suhu dalam Celcius:  12\n"
     ]
    },
    {
     "name": "stdout",
     "output_type": "stream",
     "text": [
      "Suhu 12.0 Celcius sama dengan 54 Fahrenheit.\n"
     ]
    },
    {
     "name": "stdin",
     "output_type": "stream",
     "text": [
      "Masukkan suhu dalam Celcius:  2\n"
     ]
    },
    {
     "name": "stdout",
     "output_type": "stream",
     "text": [
      "suhu 2.0 sama dengan  2 Reamur\n"
     ]
    }
   ],
   "source": [
    "celcius_to_fahrenheit = lambda c: round((9/5) * c + 32)\n",
    "\n",
    "celcius_to_reamur = lambda c: round(0.8 * c)\n",
    "\n",
    "C = float(input(\"Masukkan suhu dalam Celcius: \"))\n",
    "F = celcius_to_fahrenheit(round(C))\n",
    "print(f\"Suhu {C} Celcius sama dengan {F} Fahrenheit.\")\n",
    "\n",
    "D = float(input(\"Masukkan suhu dalam Celcius: \"))\n",
    "R = celcius_to_reamur (round(D))\n",
    "print(\"suhu\",D,\"sama dengan \",R, \"Reamur\")"
   ]
  }
 ],
 "metadata": {
  "kernelspec": {
   "display_name": "Python 3 (ipykernel)",
   "language": "python",
   "name": "python3"
  },
  "language_info": {
   "codemirror_mode": {
    "name": "ipython",
    "version": 3
   },
   "file_extension": ".py",
   "mimetype": "text/x-python",
   "name": "python",
   "nbconvert_exporter": "python",
   "pygments_lexer": "ipython3",
   "version": "3.12.1"
  }
 },
 "nbformat": 4,
 "nbformat_minor": 5
}
