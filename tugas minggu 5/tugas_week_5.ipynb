{
 "cells": [
  {
   "cell_type": "code",
   "execution_count": 9,
   "metadata": {},
   "outputs": [
    {
     "name": "stdin",
     "output_type": "stream",
     "text": [
      "Masukkan angka pertama:  6\n",
      "Masukkan angka kedua:  5\n"
     ]
    },
    {
     "name": "stdout",
     "output_type": "stream",
     "text": [
      "5 x 6 = 30\n"
     ]
    }
   ],
   "source": [
    "def perkalian(a, b):\n",
    "    \n",
    "    angka1 = int(input(\"Masukkan angka pertama: \"))\n",
    "    angka2 = int(input(\"Masukkan angka kedua: \"))\n",
    "\n",
    "    hasil = 0\n",
    "    for i in range(b):\n",
    "        hasil += a\n",
    "    return hasil\n",
    "\n",
    "print(f\"{angka1} x {angka2} = {perkalian(angka1, angka2)}\")"
   ]
  },
  {
   "cell_type": "code",
   "execution_count": 21,
   "metadata": {},
   "outputs": [
    {
     "name": "stdin",
     "output_type": "stream",
     "text": [
      "Masukkan angka batas bawah:  97\n",
      "Masukkan angka batas atas:  82\n"
     ]
    },
    {
     "name": "stdout",
     "output_type": "stream",
     "text": [
      "Deret bilangan ganjil adalah:\n",
      "97\n",
      "95\n",
      "93\n",
      "91\n",
      "89\n",
      "87\n",
      "85\n",
      "83\n"
     ]
    }
   ],
   "source": [
    "def ganjil(bawah, atas):\n",
    "    print(\"Deret bilangan ganjil adalah:\")\n",
    "    \n",
    "    if bawah < atas:\n",
    "        for i in range(bawah, atas + 1):\n",
    "            if i % 2 != 0:\n",
    "                print(i)\n",
    "    else:\n",
    "        for i in range(bawah, atas - 1, -1):\n",
    "            if i % 2 != 0:\n",
    "                print(i)\n",
    "\n",
    "bawah = int(input(\"Masukkan angka batas bawah: \"))\n",
    "atas = int(input(\"Masukkan angka batas atas: \"))\n",
    "\n",
    "ganjil(bawah, atas)"
   ]
  },
  {
   "cell_type": "code",
   "execution_count": 23,
   "metadata": {},
   "outputs": [
    {
     "name": "stdin",
     "output_type": "stream",
     "text": [
      "Berapa jumlah mata kuliah?  6\n"
     ]
    },
    {
     "name": "stdout",
     "output_type": "stream",
     "text": [
      "nilai MK 1:\n"
     ]
    },
    {
     "name": "stdin",
     "output_type": "stream",
     "text": [
      " A\n"
     ]
    },
    {
     "name": "stdout",
     "output_type": "stream",
     "text": [
      "nilai MK 2:\n"
     ]
    },
    {
     "name": "stdin",
     "output_type": "stream",
     "text": [
      " B\n"
     ]
    },
    {
     "name": "stdout",
     "output_type": "stream",
     "text": [
      "nilai MK 3:\n"
     ]
    },
    {
     "name": "stdin",
     "output_type": "stream",
     "text": [
      " C\n"
     ]
    },
    {
     "name": "stdout",
     "output_type": "stream",
     "text": [
      "nilai MK 4:\n"
     ]
    },
    {
     "name": "stdin",
     "output_type": "stream",
     "text": [
      " A\n"
     ]
    },
    {
     "name": "stdout",
     "output_type": "stream",
     "text": [
      "nilai MK 5:\n"
     ]
    },
    {
     "name": "stdin",
     "output_type": "stream",
     "text": [
      " D\n"
     ]
    },
    {
     "name": "stdout",
     "output_type": "stream",
     "text": [
      "nilai MK 6:\n"
     ]
    },
    {
     "name": "stdin",
     "output_type": "stream",
     "text": [
      " C\n"
     ]
    },
    {
     "name": "stdout",
     "output_type": "stream",
     "text": [
      "Jilai IPS anda semester ini 2.67\n"
     ]
    }
   ],
   "source": [
    "def hitung_ips(jumlah_mk):\n",
    "\n",
    "    total_sks = 0\n",
    "    total_ips = 0\n",
    "\n",
    "    for i in range(jumlah_mk):\n",
    "        print(f\"nilai MK {i+1}:\")\n",
    "        nilai = input().upper()\n",
    "\n",
    "        bobot = 0\n",
    "        if nilai == \"A\":\n",
    "            bobot = 4\n",
    "        elif nilai == \"B\":\n",
    "            bobot = 3\n",
    "        elif nilai == \"C\":\n",
    "            bobot = 2\n",
    "        elif nilai == \"D\":\n",
    "            bobot = 1\n",
    "        else:\n",
    "            print(\"Nilai yang Anda masukkan salah.\")\n",
    "\n",
    "        total_ips += bobot * 3\n",
    "        total_sks += 3\n",
    "\n",
    "    return total_ips / total_sks\n",
    "\n",
    "jumlah_mk = int(input(\"Berapa jumlah mata kuliah? \"))\n",
    "\n",
    "ips = hitung_ips(jumlah_mk)\n",
    "print(f\"Jilai IPS anda semester ini {ips:.2f}\")"
   ]
  }
 ],
 "metadata": {
  "kernelspec": {
   "display_name": "Python 3 (ipykernel)",
   "language": "python",
   "name": "python3"
  },
  "language_info": {
   "codemirror_mode": {
    "name": "ipython",
    "version": 3
   },
   "file_extension": ".py",
   "mimetype": "text/x-python",
   "name": "python",
   "nbconvert_exporter": "python",
   "pygments_lexer": "ipython3",
   "version": "3.12.1"
  }
 },
 "nbformat": 4,
 "nbformat_minor": 4
}
