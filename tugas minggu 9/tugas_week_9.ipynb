{
 "cells": [
  {
   "cell_type": "code",
   "execution_count": 11,
   "metadata": {},
   "outputs": [
    {
     "name": "stdin",
     "output_type": "stream",
     "text": [
      "Masukkan path file 1:  tes1.txt\n",
      "Masukkan path file 2:  tes2.txt\n"
     ]
    },
    {
     "name": "stdout",
     "output_type": "stream",
     "text": [
      "Perbedaan pada baris 2:\n",
      "File tes1.txt : saya pergi bersama dengan kakak\n",
      "File tes2.txt : saya pergi bersama dengan bapak saya\n",
      "\n"
     ]
    }
   ],
   "source": [
    "namafile1 = input(\"Masukkan path file 1: \")\n",
    "namafile2 = input(\"Masukkan path file 2: \")\n",
    "\n",
    "with open(namafile1, 'r') as file1, open(namafile2, 'r') as file2:\n",
    "    nomor_baris = 1\n",
    "    while True:\n",
    "        garis1 = file1.readline()\n",
    "        garis2 = file2.readline()\n",
    "\n",
    "        if not garis1 and not garis2:\n",
    "            break\n",
    "\n",
    "        if garis1 != garis2:\n",
    "            print(f\"Perbedaan pada baris {nomor_baris}:\")\n",
    "            print(f\"File {namafile1} : {garis1.strip()}\")\n",
    "            print(f\"File {namafile2} : {garis2.strip()}\\n\")\n",
    "\n",
    "        nomor_baris += 1"
   ]
  },
  {
   "cell_type": "code",
   "execution_count": 2,
   "metadata": {},
   "outputs": [
    {
     "name": "stdout",
     "output_type": "stream",
     "text": [
      "Nama file: soal.txt\n",
      "1+1 =\n"
     ]
    },
    {
     "name": "stdin",
     "output_type": "stream",
     "text": [
      "Jawab:  2\n"
     ]
    },
    {
     "name": "stdout",
     "output_type": "stream",
     "text": [
      "Jawaban benar!\n",
      "\n",
      "Bendera Indonesia?\n"
     ]
    },
    {
     "name": "stdin",
     "output_type": "stream",
     "text": [
      "Jawab:  merah putih\n"
     ]
    },
    {
     "name": "stdout",
     "output_type": "stream",
     "text": [
      "Jawaban benar!\n",
      "\n",
      "Kota gudeg adalah:\n"
     ]
    },
    {
     "name": "stdin",
     "output_type": "stream",
     "text": [
      "Jawab:  yogyakarta\n"
     ]
    },
    {
     "name": "stdout",
     "output_type": "stream",
     "text": [
      "Jawaban benar!\n",
      "\n",
      "Komponen PC untuk penyimpanan file adalah...\n"
     ]
    },
    {
     "name": "stdin",
     "output_type": "stream",
     "text": [
      "Jawab:  harddisk\n"
     ]
    },
    {
     "name": "stdout",
     "output_type": "stream",
     "text": [
      "Jawaban benar!\n",
      "\n",
      "50 * 20 =\n"
     ]
    },
    {
     "name": "stdin",
     "output_type": "stream",
     "text": [
      "Jawab:  1000\n"
     ]
    },
    {
     "name": "stdout",
     "output_type": "stream",
     "text": [
      "Jawaban benar!\n",
      "\n"
     ]
    }
   ],
   "source": [
    "#soal 2\n",
    "namafile = \"soal.txt\"\n",
    "\n",
    "print(f\"Nama file: {namafile}\")\n",
    "\n",
    "with open(namafile, 'r') as file:\n",
    "    for line in file:\n",
    "        pertanyaan, jawaban = line.strip().split(\" || \")\n",
    "        print(pertanyaan)\n",
    "        user = input(\"Jawab: \").strip().lower()\n",
    "\n",
    "        if user == jawaban.lower():\n",
    "            print(\"Jawaban benar!\\n\")\n",
    "        else:\n",
    "            print(\"Jawaban salah!\\n\")\n"
   ]
  }
 ],
 "metadata": {
  "kernelspec": {
   "display_name": "Python 3 (ipykernel)",
   "language": "python",
   "name": "python3"
  },
  "language_info": {
   "codemirror_mode": {
    "name": "ipython",
    "version": 3
   },
   "file_extension": ".py",
   "mimetype": "text/x-python",
   "name": "python",
   "nbconvert_exporter": "python",
   "pygments_lexer": "ipython3",
   "version": "3.12.1"
  }
 },
 "nbformat": 4,
 "nbformat_minor": 4
}
