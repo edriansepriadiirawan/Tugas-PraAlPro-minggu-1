{
 "cells": [
  {
   "cell_type": "code",
   "execution_count": 28,
   "id": "447ccf03-b53b-44da-99fa-d8360ad35773",
   "metadata": {},
   "outputs": [
    {
     "name": "stdin",
     "output_type": "stream",
     "text": [
      "Masukkan suhu tubuh:  dua belas\n"
     ]
    },
    {
     "name": "stdout",
     "output_type": "stream",
     "text": [
      "inputan tidak valid, silahkan masukkan angka!\n"
     ]
    }
   ],
   "source": [
    "try:\n",
    "    suhu = int(input(\"Masukkan suhu tubuh: \"))\n",
    "\n",
    "    if suhu >= 38:\n",
    "        print(\"Anda demam\")\n",
    "    else:\n",
    "        print(\"Anda tidak demam\")\n",
    "except:\n",
    "    print(\"inputan tidak valid, silahkan masukkan angka!\")"
   ]
  },
  {
   "cell_type": "code",
   "execution_count": 29,
   "id": "bba86983-364b-43b7-a9c9-f0c9627a2b13",
   "metadata": {},
   "outputs": [
    {
     "name": "stdin",
     "output_type": "stream",
     "text": [
      "Masukkan suatu bilangan:  dua\n"
     ]
    },
    {
     "name": "stdout",
     "output_type": "stream",
     "text": [
      "silahkan input bilangan\n"
     ]
    }
   ],
   "source": [
    "try:\n",
    "    bilangan = int(input(\"Masukkan suatu bilangan: \"))\n",
    "    \n",
    "    if bilangan > 0:\n",
    "        print(\"Positif\")\n",
    "    elif bilangan < 0:\n",
    "        print(\"Negatif\")\n",
    "    elif bilangan == 0:\n",
    "        print(\"Nol\")\n",
    "except:\n",
    "    print(\"silahkan input bilangan\")"
   ]
  },
  {
   "cell_type": "code",
   "execution_count": 13,
   "id": "1b7ebc0e-53ba-4034-a99d-3f184485e346",
   "metadata": {},
   "outputs": [
    {
     "name": "stdin",
     "output_type": "stream",
     "text": [
      "Masukkan bilangan pertama:  dwwd\n"
     ]
    },
    {
     "name": "stdout",
     "output_type": "stream",
     "text": [
      "kesalahan input, silahkan input bilangan\n"
     ]
    }
   ],
   "source": [
    "# input a, b dan c\n",
    "try:\n",
    "    a = int(input(\"Masukkan bilangan pertama: \"))\n",
    "    b = int(input(\"Masukkan bilangan kedua: \"))\n",
    "    c = int(input(\"Masukkan bilangan ketiga: \"))\n",
    "    \n",
    "     # secara berurutan tulis kriteria untuk a, b, dan c\n",
    "    if a > b and a > c:\n",
    "        print(\"Terbesar: \", a)\n",
    "    elif b > a and b > c:\n",
    "        print(\"Terbesar: \", b)\n",
    "    elif c > a and c > b:\n",
    "        print(\"Terbesar: \", c)\n",
    "    else :\n",
    "        print(\"besar bilangan sama\")\n",
    "except:\n",
    "    print(\"kesalahan input, silahkan masukkan bilangan\")"
   ]
  },
  {
   "cell_type": "code",
   "execution_count": 14,
   "id": "7be13d0c-f9e9-4b93-918d-b1e61dac3281",
   "metadata": {},
   "outputs": [
    {
     "name": "stdin",
     "output_type": "stream",
     "text": [
      "Masukkan suatu bilangan:  12\n"
     ]
    },
    {
     "name": "stdout",
     "output_type": "stream",
     "text": [
      "Positif\n"
     ]
    }
   ],
   "source": [
    "bilangan = int(input(\"Masukkan suatu bilangan: \"))\n",
    "print(\"Positif\") if bilangan > 0 else print(\"Negatif\") if bilangan < 0 else print(\"Nol\")"
   ]
  },
  {
   "cell_type": "code",
   "execution_count": 33,
   "id": "ce604d9d-b724-4169-9da2-48e0c997debb",
   "metadata": {},
   "outputs": [
    {
     "name": "stdin",
     "output_type": "stream",
     "text": [
      "Masukkan bulan (1-12):  12\n"
     ]
    },
    {
     "name": "stdout",
     "output_type": "stream",
     "text": [
      "Jumlah hari: 31\n"
     ]
    }
   ],
   "source": [
    "import calendar\n",
    "\n",
    "try:\n",
    "    tahun = 2021\n",
    "    bulan = int(input(\"Masukkan bulan (1-12): \"))\n",
    "\n",
    "    if bulan < 1 or bulan > 12:\n",
    "        print(\"Bulan yang diinputkan tidak valid.\")\n",
    "    else:\n",
    "        a, hari = calendar.monthrange(tahun, bulan)\n",
    "        print(\"Jumlah hari:\", hari)\n",
    "except:\n",
    "    print(\"silahkan coba lagi. masukkan angka\")"
   ]
  },
  {
   "cell_type": "code",
   "execution_count": 32,
   "id": "aac23285-a751-4ef0-b88d-246936a4426f",
   "metadata": {},
   "outputs": [
    {
     "name": "stdin",
     "output_type": "stream",
     "text": [
      "Masukkan sisi 1:  2\n",
      "Masukkan sisi 2:  2\n",
      "Masukkan sisi 3:  2\n"
     ]
    },
    {
     "name": "stdout",
     "output_type": "stream",
     "text": [
      "3 sisi sama\n"
     ]
    }
   ],
   "source": [
    "try:\n",
    "    sisiPertama = int(input(\"Masukkan sisi 1: \"))\n",
    "    sisiKedua = int(input(\"Masukkan sisi 2: \"))\n",
    "    sisiKetiga = int(input(\"Masukkan sisi 3: \"))\n",
    "    if sisiPertama <= 0 or sisiKedua <= 0 or sisiKetiga <= 0:\n",
    "        print(\"Panjang sisi harus lebih besar dari 0.\")\n",
    "    elif sisiPertama == sisiKedua == sisiKetiga:\n",
    "        print(\"3 sisi sama\")\n",
    "    elif sisiPertama == sisiKedua or sisiPertama == sisiKetiga or sisiKedua == sisiKetiga:\n",
    "        print(\"2 sisi sama\")\n",
    "    else:\n",
    "        print(\"Tidak ada yang sama\")\n",
    "except :\n",
    "    print(\"Input tidak valid. Silakan masukkan bilangan.\")"
   ]
  }
 ],
 "metadata": {
  "kernelspec": {
   "display_name": "Python 3 (ipykernel)",
   "language": "python",
   "name": "python3"
  },
  "language_info": {
   "codemirror_mode": {
    "name": "ipython",
    "version": 3
   },
   "file_extension": ".py",
   "mimetype": "text/x-python",
   "name": "python",
   "nbconvert_exporter": "python",
   "pygments_lexer": "ipython3",
   "version": "3.12.1"
  }
 },
 "nbformat": 4,
 "nbformat_minor": 5
}
