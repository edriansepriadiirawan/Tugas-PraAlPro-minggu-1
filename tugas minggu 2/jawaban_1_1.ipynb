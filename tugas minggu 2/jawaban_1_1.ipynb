{
 "cells": [
  {
   "cell_type": "code",
   "execution_count": null,
   "id": "75a756b9-a958-49cc-848a-6827648de75f",
   "metadata": {},
   "outputs": [],
   "source": [
    "def hitung_berat_badan(tinggi_badan, bmi):\n",
    "    berat_badan = tinggi_badan ** 2 * bmi\n",
    "    return berat_badan\n",
    "\n",
    "tinggi_badan = float(input(\"Masukkan tinggi badan anda (dalam meter): \"))\n",
    "bmi = float(input(\"Masukkan nilai BMI yang diharapkan: \"))\n",
    "\n",
    "berat_badan = hitung_berat_badan(tinggi_badan, bmi)\n",
    "\n",
    "print(\"Berat badan yang diperlukan untuk mencapai BMI yang diharapkan adalah:\", round(berat_badan, 2), \"kg.\")"
   ]
  }
 ],
 "metadata": {
  "kernelspec": {
   "display_name": "Python 3 (ipykernel)",
   "language": "python",
   "name": "python3"
  },
  "language_info": {
   "codemirror_mode": {
    "name": "ipython",
    "version": 3
   },
   "file_extension": ".py",
   "mimetype": "text/x-python",
   "name": "python",
   "nbconvert_exporter": "python",
   "pygments_lexer": "ipython3",
   "version": "3.12.1"
  }
 },
 "nbformat": 4,
 "nbformat_minor": 5
}
