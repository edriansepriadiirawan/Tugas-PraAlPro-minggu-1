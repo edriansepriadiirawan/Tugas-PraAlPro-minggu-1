{
 "cells": [
  {
   "cell_type": "code",
   "execution_count": 2,
   "id": "894c34f1-3023-4d48-bd25-7545fbcffc08",
   "metadata": {},
   "outputs": [
    {
     "name": "stdin",
     "output_type": "stream",
     "text": [
      "Masukkan bilangan bulat:  2\n"
     ]
    },
    {
     "name": "stdout",
     "output_type": "stream",
     "text": [
      "Hasil dari f(x) = (2x^3 + 2x + 15) / x dengan x = 2 adalah 17.5\n"
     ]
    }
   ],
   "source": [
    "def hitung(x):\n",
    "   f_x = (2 * x ** 3 + 2 * x + 15) / x\n",
    "   return f_x\n",
    "\n",
    "x = int(input(\"Masukkan bilangan bulat: \"))\n",
    "hasil = hitung(x)\n",
    "print(\"Hasil dari f(x) = (2x^3 + 2x + 15) / x dengan x =\", x, \"adalah\", hasil)"
   ]
  }
 ],
 "metadata": {
  "kernelspec": {
   "display_name": "Python 3 (ipykernel)",
   "language": "python",
   "name": "python3"
  },
  "language_info": {
   "codemirror_mode": {
    "name": "ipython",
    "version": 3
   },
   "file_extension": ".py",
   "mimetype": "text/x-python",
   "name": "python",
   "nbconvert_exporter": "python",
   "pygments_lexer": "ipython3",
   "version": "3.12.1"
  }
 },
 "nbformat": 4,
 "nbformat_minor": 5
}
