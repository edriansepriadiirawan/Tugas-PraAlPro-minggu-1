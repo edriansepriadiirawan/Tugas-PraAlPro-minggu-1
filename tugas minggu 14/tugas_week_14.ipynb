{
 "cells": [
  {
   "cell_type": "code",
   "execution_count": 3,
   "id": "2f8e8b4b-7ecd-4d09-9960-6c0e716a64fc",
   "metadata": {},
   "outputs": [
    {
     "name": "stdin",
     "output_type": "stream",
     "text": [
      "Masukkan bilangan:  abc\n"
     ]
    },
    {
     "name": "stdout",
     "output_type": "stream",
     "text": [
      "kesalahan inputan!\n"
     ]
    }
   ],
   "source": [
    "def prima(n, bagi=2):\n",
    "    if n <= 1 :\n",
    "        print(f\"{n} bukan bilangan prima\")\n",
    "    else:\n",
    "        if bagi > int(n ** 0.5):\n",
    "            print(f\"{n} adalah bilangan prima\")\n",
    "        elif n % bagi == 0:\n",
    "            print(f\"{n} bukan bilangan prima\")\n",
    "        else:\n",
    "            prima(n, bagi + 1)\n",
    "try :\n",
    "    n = int(input(\"Masukkan bilangan: \"))\n",
    "    prima(n)\n",
    "except:\n",
    "    print(\"kesalahan inputan!\")"
   ]
  },
  {
   "cell_type": "code",
   "execution_count": 6,
   "id": "cfa36eff-1d0c-4659-9a2f-f8362a5644ee",
   "metadata": {},
   "outputs": [
    {
     "name": "stdin",
     "output_type": "stream",
     "text": [
      "Sialhkan masukkan kalimat anda :  aku?!uka\n"
     ]
    },
    {
     "name": "stdout",
     "output_type": "stream",
     "text": [
      "Kalimat tersebut adalah palindrom\n"
     ]
    }
   ],
   "source": [
    "def palindrom(kalimat):\n",
    "    kalimat = ''.join(filter(str.isalnum, kalimat))\n",
    "    if len(kalimat) <= 1:\n",
    "        print(\"Kalimat tersebut adalah palindrom\")\n",
    "    elif kalimat[0].lower() != kalimat[-1].lower():\n",
    "        print(\"Kalimat tersebut bukan palindrom\")\n",
    "    else:\n",
    "        palindrom(kalimat[1:-1])\n",
    "\n",
    "kalimat = input(\"Sialhkan masukkan kalimat anda : \")\n",
    "palindrom(kalimat)"
   ]
  },
  {
   "cell_type": "code",
   "execution_count": 16,
   "id": "13aea8ac-0ba9-4211-a54e-66b3e95af568",
   "metadata": {},
   "outputs": [
    {
     "name": "stdin",
     "output_type": "stream",
     "text": [
      "Masukkan nilai n:  -1\n"
     ]
    },
    {
     "name": "stdout",
     "output_type": "stream",
     "text": [
      "Masukkan bilangan bulat.\n"
     ]
    },
    {
     "name": "stdin",
     "output_type": "stream",
     "text": [
      "Masukkan nilai n:  1\n"
     ]
    },
    {
     "name": "stdout",
     "output_type": "stream",
     "text": [
      "Jumlah deret ganjil hingga elemen ke-1 adalah: 2\n"
     ]
    }
   ],
   "source": [
    "def bilangan_deret(n):\n",
    "    if n == 0:\n",
    "        return 1\n",
    "    return (2**n - 1) + bilangan_deret(n-1)\n",
    "\n",
    "while True:\n",
    "    bilangan = input(\"Masukkan nilai n: \")\n",
    "    if bilangan.isdigit():\n",
    "        n = int(bilangan)\n",
    "        if n >= 0:\n",
    "            break\n",
    "    else:\n",
    "        print(\"Masukkan bilangan bulat.\")\n",
    "\n",
    "print(\"Jumlah deret ganjil hingga elemen ke-{} adalah: {}\".format(n, bilangan_deret(n)))"
   ]
  },
  {
   "cell_type": "code",
   "execution_count": 19,
   "id": "ef688523-cfc6-4151-9b6c-6225e582b88d",
   "metadata": {},
   "outputs": [
    {
     "name": "stdin",
     "output_type": "stream",
     "text": [
      "Masukkan angka:  abc\n"
     ]
    },
    {
     "name": "stdout",
     "output_type": "stream",
     "text": [
      "kesalahan inputan, masukkan angka atau bilangan bulat\n"
     ]
    }
   ],
   "source": [
    "def jumlah_digit(n):\n",
    "    if n < 10:\n",
    "        return n\n",
    "    else:\n",
    "        return n % 10 + jumlah_digit(n // 10)\n",
    "try:\n",
    "    a = int(input(\"Masukkan angka: \"))\n",
    "    print(f\"Jumlah digit dari {a} adalah {jumlah_digit(a)}\")\n",
    "except:\n",
    "    print(\"kesalahan inputan, masukkan angka atau bilangan bulat\")"
   ]
  },
  {
   "cell_type": "code",
   "execution_count": 27,
   "id": "a1d7a1e0-a21e-47b5-a4eb-29998e527d8e",
   "metadata": {},
   "outputs": [
    {
     "name": "stdin",
     "output_type": "stream",
     "text": [
      "Masukkan nilai pertama :  10\n",
      "Masukkan nilai kedua :  0\n"
     ]
    },
    {
     "name": "stdout",
     "output_type": "stream",
     "text": [
      "nilai Kombinasi dari (10, 0) adalah 1\n"
     ]
    }
   ],
   "source": [
    "def kombinasi(a, b):\n",
    "    if b == 0 or b == a:\n",
    "        return 1\n",
    "    return kombinasi(a - 1, b - 1) + kombinasi(a - 1, b)\n",
    "\n",
    "while True:\n",
    "    bilangan = input(\"Masukkan nilai pertama : \")\n",
    "    if bilangan.isdigit():\n",
    "        n = int(bilangan)\n",
    "        if n >= 0:\n",
    "            break\n",
    "    print(\"Masukkan bilangan bulat non-negatif.\")\n",
    "\n",
    "while True:\n",
    "    bilangan = input(\"Masukkan nilai kedua : \")\n",
    "    if bilangan.isdigit():\n",
    "        k = int(bilangan)\n",
    "        if 0 <= k <= n:\n",
    "            break\n",
    "    print(f\"Masukkan bilangan bulat antara 0 dan {n}.\")\n",
    "\n",
    "print(f\"nilai Kombinasi dari ({n}, {k}) adalah {kombinasi(n, k)}\")"
   ]
  },
  {
   "cell_type": "code",
   "execution_count": null,
   "id": "66c2a4c1-8fc2-4f55-9594-e770374016eb",
   "metadata": {},
   "outputs": [],
   "source": []
  }
 ],
 "metadata": {
  "kernelspec": {
   "display_name": "Python 3 (ipykernel)",
   "language": "python",
   "name": "python3"
  },
  "language_info": {
   "codemirror_mode": {
    "name": "ipython",
    "version": 3
   },
   "file_extension": ".py",
   "mimetype": "text/x-python",
   "name": "python",
   "nbconvert_exporter": "python",
   "pygments_lexer": "ipython3",
   "version": "3.12.1"
  }
 },
 "nbformat": 4,
 "nbformat_minor": 5
}
