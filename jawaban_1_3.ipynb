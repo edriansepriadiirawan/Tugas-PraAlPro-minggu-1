{
 "cells": [
  {
   "cell_type": "code",
   "execution_count": 5,
   "id": "8cbaa47d-f24c-41cc-90a4-f016362b194f",
   "metadata": {},
   "outputs": [
    {
     "name": "stdin",
     "output_type": "stream",
     "text": [
      "Masukkan gaji per jam yang anda inginkan:  2000000\n",
      "Masukkan jumlah jam kerja yang akan dilakukan dalam 1 minggu:  2\n"
     ]
    },
    {
     "name": "stdout",
     "output_type": "stream",
     "text": [
      "1. Pendapatan Budi selama libur musim panas sebelum melakukan pembayaran pajak:  20000000\n",
      "2. Pendapatan Budi selama libur musim panas setelah melakukan pembayaran pajak:  17200000\n",
      "3. Jumlah uang yang akan Budi habiskan untuk membeli pakaian dan aksesoris:  2000000\n",
      "4. Jumlah uang yang akan Budi habiskan untuk membeli alat tulis:  200000\n",
      "5. Jumlah uang yang akan Budi sedekahkan:  5000000\n",
      "6. Jumlah uang yang akan diterima anak yatim:  1500000\n",
      "7. Jumlah uang yang akan diterima kaum dhuafa:  3500000\n"
     ]
    }
   ],
   "source": [
    "def hitung_pendapatan(gaji_per_jam, jam_kerja):\n",
    "    bersih = gaji_per_jam * jam_kerja * 5\n",
    "    pajak = bersih * 0.14\n",
    "    setelah_pajak = bersih - pajak\n",
    "    pakaian = bersih * 0.10\n",
    "    alat_tulis = bersih * 0.01\n",
    "    sedekah = bersih * 0.25\n",
    "    anak_yatim = sedekah * 0.30\n",
    "    kaum_dhuafa = sedekah - anak_yatim\n",
    "    return (bersih, setelah_pajak, pakaian, alat_tulis, sedekah, anak_yatim, kaum_dhuafa)\n",
    "\n",
    "gaji_per_jam = float(input(\"Masukkan gaji per jam yang anda inginkan: \"))\n",
    "jam_kerja = int(input(\"Masukkan jumlah jam kerja yang akan dilakukan dalam 1 minggu: \"))\n",
    "\n",
    "bersih, setelah_pajak, pakaian, alat_tulis, sedekah, anak_yatim, kaum_dhuafa = hitung_pendapatan(gaji_per_jam, jam_kerja)\n",
    "\n",
    "print(\"1. Pendapatan Budi selama libur musim panas sebelum melakukan pembayaran pajak: \", round(bersih))\n",
    "print(\"2. Pendapatan Budi selama libur musim panas setelah melakukan pembayaran pajak: \", round(setelah_pajak))\n",
    "print(\"3. Jumlah uang yang akan Budi habiskan un)tuk membeli pakaian dan aksesoris: \", round(pakaian))\n",
    "print(\"4. Jumlah uang yang akan Budi habiskan untuk membeli alat tulis: \", round(alat_tulis))\n",
    "print(\"5. Jumlah uang yang akan Budi sedekahkan: \", round(sedekah))\n",
    "print(\"6. Jumlah uang yang akan diterima anak yatim: \", round(anak_yatim))\n",
    "print(\"7. Jumlah uang yang akan diterima kaum dhuafa: \", round(kaum_dhuafa))\n"
   ]
  },
  {
   "cell_type": "code",
   "execution_count": null,
   "id": "599ff727-6e45-43bc-96c5-66159082d895",
   "metadata": {},
   "outputs": [],
   "source": []
  }
 ],
 "metadata": {
  "kernelspec": {
   "display_name": "Python 3 (ipykernel)",
   "language": "python",
   "name": "python3"
  },
  "language_info": {
   "codemirror_mode": {
    "name": "ipython",
    "version": 3
   },
   "file_extension": ".py",
   "mimetype": "text/x-python",
   "name": "python",
   "nbconvert_exporter": "python",
   "pygments_lexer": "ipython3",
   "version": "3.12.1"
  }
 },
 "nbformat": 4,
 "nbformat_minor": 5
}
