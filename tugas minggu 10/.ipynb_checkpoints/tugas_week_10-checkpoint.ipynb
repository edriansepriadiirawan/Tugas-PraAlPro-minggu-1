{
 "cells": [
  {
   "cell_type": "code",
   "execution_count": 6,
   "id": "31854b2e-31a7-402b-8a2f-7b0d4cc7b814",
   "metadata": {},
   "outputs": [
    {
     "name": "stdout",
     "output_type": "stream",
     "text": [
      "tiga nilai tertinggi adalah :  [90, 89, 78]\n"
     ]
    }
   ],
   "source": [
    "#soal nomor 1 \n",
    "\n",
    "list_nilai = [34,56,12,34,57,89,46,23,46,78,90]\n",
    "\n",
    "list_nilai.sort(reverse=True)\n",
    "tertinggi = list_nilai[:3]\n",
    "\n",
    "print(\"tiga nilai tertinggi adalah : \",tertinggi)"
   ]
  },
  {
   "cell_type": "code",
   "execution_count": 10,
   "id": "9dcc4279-91ad-414d-badd-c514c0a83caa",
   "metadata": {},
   "outputs": [
    {
     "name": "stdin",
     "output_type": "stream",
     "text": [
      "masukkan angka (ketik 'done' untuk selesai) :  12\n",
      "masukkan angka (ketik 'done' untuk selesai) :  23\n",
      "masukkan angka (ketik 'done' untuk selesai) :  34\n",
      "masukkan angka (ketik 'done' untuk selesai) :  56\n",
      "masukkan angka (ketik 'done' untuk selesai) :  done\n"
     ]
    },
    {
     "name": "stdout",
     "output_type": "stream",
     "text": [
      "nilai maksimum :  56\n",
      "nilai minimum : 12\n"
     ]
    }
   ],
   "source": [
    "#soal nomor 2\n",
    "angka = []\n",
    "\n",
    "while True:\n",
    "    masukkan_angka = input(\"masukkan angka (ketik 'done' untuk selesai) : \")\n",
    "    if masukkan_angka == 'done':\n",
    "        break\n",
    "    else:\n",
    "        angka.append(masukkan_angka)\n",
    "\n",
    "if angka:\n",
    "    terbesar = max(angka)\n",
    "    terkecil = min(angka)\n",
    "    print(\"nilai maksimum : \",terbesar)\n",
    "    print(\"nilai minimum : \",terkecil)"
   ]
  },
  {
   "cell_type": "code",
   "execution_count": 13,
   "id": "0b9eb164-7cef-49ee-b92a-dd75e2f7a1b2",
   "metadata": {},
   "outputs": [
    {
     "ename": "FileNotFoundError",
     "evalue": "[Errno 2] No such file or directory: 'berita.txt'",
     "output_type": "error",
     "traceback": [
      "\u001b[1;31m---------------------------------------------------------------------------\u001b[0m",
      "\u001b[1;31mFileNotFoundError\u001b[0m                         Traceback (most recent call last)",
      "Cell \u001b[1;32mIn[13], line 16\u001b[0m\n\u001b[0;32m      1\u001b[0m \u001b[38;5;66;03m# soal nomor 3\u001b[39;00m\n\u001b[0;32m      2\u001b[0m \u001b[38;5;66;03m# with open('berita.txt', 'r') as file:\u001b[39;00m\n\u001b[0;32m      3\u001b[0m \u001b[38;5;66;03m#    baris  = file.readlines()\u001b[39;00m\n\u001b[1;32m   (...)\u001b[0m\n\u001b[0;32m     14\u001b[0m \u001b[38;5;66;03m# print(kata_unik)\u001b[39;00m\n\u001b[0;32m     15\u001b[0m \u001b[38;5;66;03m# Buka file teks untuk dibaca\u001b[39;00m\n\u001b[1;32m---> 16\u001b[0m \u001b[38;5;28;01mwith\u001b[39;00m \u001b[38;5;28;43mopen\u001b[39;49m\u001b[43m(\u001b[49m\u001b[38;5;124;43m'\u001b[39;49m\u001b[38;5;124;43mberita.txt\u001b[39;49m\u001b[38;5;124;43m'\u001b[39;49m\u001b[43m,\u001b[49m\u001b[43m \u001b[49m\u001b[38;5;124;43m'\u001b[39;49m\u001b[38;5;124;43mr\u001b[39;49m\u001b[38;5;124;43m'\u001b[39;49m\u001b[43m)\u001b[49m \u001b[38;5;28;01mas\u001b[39;00m berkas:\n\u001b[0;32m     17\u001b[0m     \u001b[38;5;66;03m# Membaca setiap baris dalam file\u001b[39;00m\n\u001b[0;32m     18\u001b[0m     baris \u001b[38;5;241m=\u001b[39m berkas\u001b[38;5;241m.\u001b[39mreadlines()\n\u001b[0;32m     20\u001b[0m \u001b[38;5;66;03m# Inisialisasi list untuk menyimpan kata-kata unik\u001b[39;00m\n",
      "File \u001b[1;32m~\\AppData\\Local\\Programs\\Python\\Python312\\Lib\\site-packages\\IPython\\core\\interactiveshell.py:310\u001b[0m, in \u001b[0;36m_modified_open\u001b[1;34m(file, *args, **kwargs)\u001b[0m\n\u001b[0;32m    303\u001b[0m \u001b[38;5;28;01mif\u001b[39;00m file \u001b[38;5;129;01min\u001b[39;00m {\u001b[38;5;241m0\u001b[39m, \u001b[38;5;241m1\u001b[39m, \u001b[38;5;241m2\u001b[39m}:\n\u001b[0;32m    304\u001b[0m     \u001b[38;5;28;01mraise\u001b[39;00m \u001b[38;5;167;01mValueError\u001b[39;00m(\n\u001b[0;32m    305\u001b[0m         \u001b[38;5;124mf\u001b[39m\u001b[38;5;124m\"\u001b[39m\u001b[38;5;124mIPython won\u001b[39m\u001b[38;5;124m'\u001b[39m\u001b[38;5;124mt let you open fd=\u001b[39m\u001b[38;5;132;01m{\u001b[39;00mfile\u001b[38;5;132;01m}\u001b[39;00m\u001b[38;5;124m by default \u001b[39m\u001b[38;5;124m\"\u001b[39m\n\u001b[0;32m    306\u001b[0m         \u001b[38;5;124m\"\u001b[39m\u001b[38;5;124mas it is likely to crash IPython. If you know what you are doing, \u001b[39m\u001b[38;5;124m\"\u001b[39m\n\u001b[0;32m    307\u001b[0m         \u001b[38;5;124m\"\u001b[39m\u001b[38;5;124myou can use builtins\u001b[39m\u001b[38;5;124m'\u001b[39m\u001b[38;5;124m open.\u001b[39m\u001b[38;5;124m\"\u001b[39m\n\u001b[0;32m    308\u001b[0m     )\n\u001b[1;32m--> 310\u001b[0m \u001b[38;5;28;01mreturn\u001b[39;00m \u001b[43mio_open\u001b[49m\u001b[43m(\u001b[49m\u001b[43mfile\u001b[49m\u001b[43m,\u001b[49m\u001b[43m \u001b[49m\u001b[38;5;241;43m*\u001b[39;49m\u001b[43margs\u001b[49m\u001b[43m,\u001b[49m\u001b[43m \u001b[49m\u001b[38;5;241;43m*\u001b[39;49m\u001b[38;5;241;43m*\u001b[39;49m\u001b[43mkwargs\u001b[49m\u001b[43m)\u001b[49m\n",
      "\u001b[1;31mFileNotFoundError\u001b[0m: [Errno 2] No such file or directory: 'berita.txt'"
     ]
    }
   ],
   "source": [
    "# soal nomor 3\n",
    "with open('berita.txt', 'r') as file:\n",
    "   baris  = file.readlines()\n",
    "\n",
    "kata_unik = []\n",
    "\n",
    "for line in baris:\n",
    "    kata = line.split()\n",
    "    for k in kata:\n",
    "        if k not in kata_unik:\n",
    "            kata_unik.append(k)\n",
    "\n",
    "print(\"Kata Unik pada Berita: \")\n",
    "print(kata_unik)\n"
   ]
  }
 ],
 "metadata": {
  "kernelspec": {
   "display_name": "Python 3 (ipykernel)",
   "language": "python",
   "name": "python3"
  },
  "language_info": {
   "codemirror_mode": {
    "name": "ipython",
    "version": 3
   },
   "file_extension": ".py",
   "mimetype": "text/x-python",
   "name": "python",
   "nbconvert_exporter": "python",
   "pygments_lexer": "ipython3",
   "version": "3.12.1"
  }
 },
 "nbformat": 4,
 "nbformat_minor": 5
}
