{
 "cells": [
  {
   "cell_type": "code",
   "execution_count": 28,
   "id": "31854b2e-31a7-402b-8a2f-7b0d4cc7b814",
   "metadata": {},
   "outputs": [
    {
     "name": "stdout",
     "output_type": "stream",
     "text": [
      "tiga nilai tertinggi adalah :  [90, 89, 78]\n"
     ]
    }
   ],
   "source": [
    "#soal nomor 1 \n",
    "\n",
    "list_nilai = [34,56,12,34,57,89,46,23,46,78,90]\n",
    "\n",
    "list_nilai.sort(reverse=True)\n",
    "tertinggi = list_nilai[:3]\n",
    "\n",
    "print(\"tiga nilai tertinggi adalah : \",tertinggi)"
   ]
  },
  {
   "cell_type": "code",
   "execution_count": 29,
   "id": "9dcc4279-91ad-414d-badd-c514c0a83caa",
   "metadata": {},
   "outputs": [
    {
     "name": "stdin",
     "output_type": "stream",
     "text": [
      "masukkan angka (ketik 'done' untuk selesai) :  12\n",
      "masukkan angka (ketik 'done' untuk selesai) :  23\n",
      "masukkan angka (ketik 'done' untuk selesai) :  34\n",
      "masukkan angka (ketik 'done' untuk selesai) :  56\n",
      "masukkan angka (ketik 'done' untuk selesai) :  12\n",
      "masukkan angka (ketik 'done' untuk selesai) :  33\n",
      "masukkan angka (ketik 'done' untuk selesai) :  done\n"
     ]
    },
    {
     "name": "stdout",
     "output_type": "stream",
     "text": [
      "nilai maksimum :  56\n",
      "nilai minimum :  12\n"
     ]
    }
   ],
   "source": [
    "#soal nomor 2\n",
    "angka = []\n",
    "\n",
    "while True:\n",
    "    masukkan_angka = input(\"masukkan angka (ketik 'done' untuk selesai) : \")\n",
    "    if masukkan_angka == 'done':\n",
    "        break\n",
    "    else:\n",
    "        angka.append(masukkan_angka)\n",
    "\n",
    "if angka:\n",
    "    terbesar = max(angka)\n",
    "    terkecil = min(angka)\n",
    "    print(\"nilai maksimum : \",terbesar)\n",
    "    print(\"nilai minimum : \",terkecil)"
   ]
  },
  {
   "cell_type": "code",
   "execution_count": 32,
   "id": "0b9eb164-7cef-49ee-b92a-dd75e2f7a1b2",
   "metadata": {},
   "outputs": [
    {
     "name": "stdout",
     "output_type": "stream",
     "text": [
      "======ISI BERITA=======\n",
      "Berikutnya, Bung Towel juga berharap PSSI memberikan tantangan untuk STY. Caranya ialah bagaimana apabila Timnas tampil di perempatfinal tanpa kehadiran Nathan Tjoe-A-On. Bek sayap kiri SC Heerenveen ini sempat pulang ke Belanda untuk kembali ke klub sebelum balik lagi ke Qatar bersama Timnas.\n",
      "\"Harusnya kita challenge, ketika tanpa Nathan Tjoe-A-On, apa yang akan dilakukan oleh Shin Tae-yong\" ungkap Towel.\n",
      "\n",
      "Aksi yang dilakukan Bung Towel itu lantas memantik reaksi Hotman Paris Hutapea sebagai pembawa acara selain respon Coach Justin.\n",
      "\n",
      "\"Ya jangan ambil resiko dong, udah keburu kalah,\" kata Hotman.\n",
      "\n",
      "\"Ini kan sebuah upaya yang dilakukan. Kalo seandainya tidak berhasil Nathan Tjoe-A-On dan aku yakin tetap bisa,\" sambut Coach Justin.\n",
      "\n",
      "Bung Towel tetap berdalih ini adalah kesempatan untuk menguji kembali kualitas STY setelah memenuhi target PSSI: lolos perempat final Piala Asia U23 2024.\n",
      "\n",
      "\"Kita sedang menguji kualitas Shin Tae-yong. Kalo disuapin terus sama Erick Thohir, enak betul Shin Tae-yong,\" papar Towel.\n",
      "\n",
      "========Kata Unik pada Berita========\n",
      "['Berikutnya', 'Bung', 'Towel', 'juga', 'berharap', 'PSSI', 'memberikan', 'tantangan', 'untuk', 'STY', 'Caranya', 'ialah', 'bagaimana', 'apabila', 'Timnas', 'tampil', 'di', 'perempatfinal', 'tanpa', 'kehadiran', 'Nathan', 'Tjoe-A-On', 'Bek', 'sayap', 'kiri', 'SC', 'Heerenveen', 'ini', 'sempat', 'pulang', 'ke', 'Belanda', 'kembali', 'klub', 'sebelum', 'balik', 'lagi', 'Qatar', 'bersama', 'Timnas', '\"Harusnya', 'kita', 'challenge', 'ketika', 'Tjoe-A-On', 'apa', 'yang', 'akan', 'dilakukan', 'oleh', 'Shin', 'Tae-yong\"', 'ungkap', 'Towel', 'Aksi', 'itu', 'lantas', 'memantik', 'reaksi', 'Hotman', 'Paris', 'Hutapea', 'sebagai', 'pembawa', 'acara', 'selain', 'respon', 'Coach', 'Justin', '\"Ya', 'jangan', 'ambil', 'resiko', 'dong', 'udah', 'keburu', 'kalah,\"', 'kata', 'Hotman', '\"Ini', 'kan', 'sebuah', 'upaya', 'dilakukan', 'Kalo', 'seandainya', 'tidak', 'berhasil', 'dan', 'aku', 'yakin', 'tetap', 'bisa,\"', 'sambut', 'Justin', 'berdalih', 'adalah', 'kesempatan', 'menguji', 'kualitas', 'setelah', 'memenuhi', 'target', 'PSSI:', 'lolos', 'perempat', 'final', 'Piala', 'Asia', 'U23', '2024', '\"Kita', 'sedang', 'Tae-yong', 'disuapin', 'terus', 'sama', 'Erick', 'Thohir', 'enak', 'betul', 'Tae-yong,\"', 'papar', 'Towel']\n"
     ]
    }
   ],
   "source": [
    "#soal nomor 3\n",
    "with open('berita.txt', 'r') as file:\n",
    "    isi_file = file.read()\n",
    "    print(\"======ISI BERITA=======\")\n",
    "    print(isi_file)\n",
    "    \n",
    "kata_unik = []\n",
    "\n",
    "kata_kata = isi_file.split()\n",
    "\n",
    "for kata in kata_kata:\n",
    "    if kata not in kata_unik:\n",
    "        kata_unik.append(kata.strip('.,!?'))\n",
    "\n",
    "print(\"\\n========Kata Unik pada Berita========\")\n",
    "print(kata_unik)"
   ]
  }
 ],
 "metadata": {
  "kernelspec": {
   "display_name": "Python 3 (ipykernel)",
   "language": "python",
   "name": "python3"
  },
  "language_info": {
   "codemirror_mode": {
    "name": "ipython",
    "version": 3
   },
   "file_extension": ".py",
   "mimetype": "text/x-python",
   "name": "python",
   "nbconvert_exporter": "python",
   "pygments_lexer": "ipython3",
   "version": "3.12.1"
  }
 },
 "nbformat": 4,
 "nbformat_minor": 5
}
