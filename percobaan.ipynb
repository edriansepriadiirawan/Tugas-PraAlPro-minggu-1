{
 "cells": [
  {
   "cell_type": "code",
   "execution_count": 1,
   "id": "a385e16c-13eb-4b0e-8b99-f017404fb2ca",
   "metadata": {},
   "outputs": [
    {
     "name": "stdout",
     "output_type": "stream",
     "text": [
      "jumlah uang yang dibutuhkan adalah Rp. 100000\n"
     ]
    }
   ],
   "source": [
    "harga_buku = 20000\n",
    "jumlah_buku = 5\n",
    "\n",
    "total_harga = harga_buku * jumlah_buku\n",
    "\n",
    "print(\"jumlah uang yang dibutuhkan adalah Rp.\",total_harga)"
   ]
  }
 ],
 "metadata": {
  "kernelspec": {
   "display_name": "Python 3 (ipykernel)",
   "language": "python",
   "name": "python3"
  },
  "language_info": {
   "codemirror_mode": {
    "name": "ipython",
    "version": 3
   },
   "file_extension": ".py",
   "mimetype": "text/x-python",
   "name": "python",
   "nbconvert_exporter": "python",
   "pygments_lexer": "ipython3",
   "version": "3.12.1"
  }
 },
 "nbformat": 4,
 "nbformat_minor": 5
}
