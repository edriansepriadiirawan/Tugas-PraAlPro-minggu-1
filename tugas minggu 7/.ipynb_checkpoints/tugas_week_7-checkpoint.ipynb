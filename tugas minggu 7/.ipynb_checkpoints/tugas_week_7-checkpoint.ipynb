{
 "cells": [
  {
   "cell_type": "code",
   "execution_count": 12,
   "id": "3a42052d-14de-423c-85fd-6ef7ea328565",
   "metadata": {},
   "outputs": [
    {
     "name": "stdin",
     "output_type": "stream",
     "text": [
      "Masukkan kata pertama:  maat\n",
      "Masukkan kata kedua:  mata\n"
     ]
    },
    {
     "name": "stdout",
     "output_type": "stream",
     "text": [
      "kata maat dan mata adalah anagram.\n"
     ]
    }
   ],
   "source": [
    "kata1 = input(\"Masukkan kata pertama: \")\n",
    "kata2 = input(\"Masukkan kata kedua: \")\n",
    "\n",
    "baris1 = sorted(kata1.lower())\n",
    "baris2 = sorted(kata2.lower())\n",
    "\n",
    "if baris1 == baris2:\n",
    "    print(f\"kata {kata1} dan {kata2} adalah anagram.\")\n",
    "else:\n",
    "    print(f\"kata {kata1} dan {kata2} bukan anagram.\")"
   ]
  },
  {
   "cell_type": "code",
   "execution_count": 3,
   "id": "f559722d-b5e7-48b4-8a42-5a9b3b473fa5",
   "metadata": {},
   "outputs": [
    {
     "name": "stdin",
     "output_type": "stream",
     "text": [
      "Masukkan kalimat:  saya mau mau makan\n",
      "Masukkan kata yang dicari:  mau\n"
     ]
    },
    {
     "name": "stdout",
     "output_type": "stream",
     "text": [
      "mau ada 2 buah\n"
     ]
    }
   ],
   "source": [
    "kalimat = input(\"Masukkan kalimat: \")\n",
    "kata_dicari = input(\"Masukkan kata yang dicari: \")\n",
    "\n",
    "kalimat_lower = kalimat.lower()\n",
    "kata_dicari_lower = kata_dicari.lower()\n",
    "\n",
    "banyak = 0\n",
    "for i in kalimat_lower.split():\n",
    "    if i == kata_dicari_lower:\n",
    "        banyak += 1\n",
    "\n",
    "print(f\"{kata_dicari} ada {banyak} buah\")"
   ]
  },
  {
   "cell_type": "code",
   "execution_count": 8,
   "id": "5f6a8b88-37b6-45b2-954e-235a2e6f6868",
   "metadata": {},
   "outputs": [
    {
     "name": "stdin",
     "output_type": "stream",
     "text": [
      "Masukkan kalimat:  saya mau               makan\n"
     ]
    },
    {
     "name": "stdout",
     "output_type": "stream",
     "text": [
      "Output: saya mau makan\n"
     ]
    }
   ],
   "source": [
    "n = input(\"Masukkan kalimat: \")\n",
    "\n",
    "kata = n.split()\n",
    "\n",
    "kalimat_baru = ' '.join(kata)\n",
    "\n",
    "print(\"Output:\", kalimat_baru)"
   ]
  },
  {
   "cell_type": "code",
   "execution_count": 7,
   "id": "6d871d57-cce1-4da3-837d-d8697d81136f",
   "metadata": {},
   "outputs": [
    {
     "name": "stdin",
     "output_type": "stream",
     "text": [
      "Masukkan kalimat:  say mau makan ikan gurame\n"
     ]
    },
    {
     "name": "stdout",
     "output_type": "stream",
     "text": [
      "kata terpendek adalah say , dan kata terpanjang adalah  gurame\n"
     ]
    }
   ],
   "source": [
    "n = input(\"Masukkan kalimat: \")\n",
    "\n",
    "kalimat = n.split()\n",
    "\n",
    "terpendek = kalimat[0]\n",
    "terpanjang = kalimat[0]\n",
    "\n",
    "for i in kalimat:\n",
    "    if len(i) < len(terpendek):\n",
    "        terpendek = i\n",
    "    if len(i) > len(terpanjang):\n",
    "        terpanjang = i\n",
    "\n",
    "print(f\"kata terpendek adalah\", terpendek,\", dan kata terpanjang adalah \",terpanjang)"
   ]
  }
 ],
 "metadata": {
  "kernelspec": {
   "display_name": "Python 3 (ipykernel)",
   "language": "python",
   "name": "python3"
  },
  "language_info": {
   "codemirror_mode": {
    "name": "ipython",
    "version": 3
   },
   "file_extension": ".py",
   "mimetype": "text/x-python",
   "name": "python",
   "nbconvert_exporter": "python",
   "pygments_lexer": "ipython3",
   "version": "3.12.1"
  }
 },
 "nbformat": 4,
 "nbformat_minor": 5
}
