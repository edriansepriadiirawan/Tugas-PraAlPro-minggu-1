{
 "cells": [
  {
   "cell_type": "code",
   "execution_count": 1,
   "metadata": {},
   "outputs": [
    {
     "name": "stdout",
     "output_type": "stream",
     "text": [
      "key  value  item\n",
      "1    10     1   \n",
      "2    20     2   \n",
      "3    30     3   \n",
      "4    40     4   \n",
      "5    50     5   \n",
      "6    60     6   \n"
     ]
    }
   ],
   "source": [
    "data = {1: 10, 2: 20, 3: 30, 4: 40, 5: 50, 6: 60}\n",
    "\n",
    "print(\"{:<4} {:<6} {:<4}\".format(\"key\", \"value\", \"item\"))\n",
    "\n",
    "kunci = list(data.keys())\n",
    "\n",
    "for i in range(len(kunci)):\n",
    "    key = kunci[i]\n",
    "    value = data[key]\n",
    "    print(\"{:<4} {:<6} {:<4}\".format(key, value, key))\n"
   ]
  },
  {
   "cell_type": "code",
   "execution_count": 4,
   "metadata": {},
   "outputs": [
    {
     "name": "stdout",
     "output_type": "stream",
     "text": [
      "{'green': '#008000', 'blue': '#0000FF', 'red': '#FF0000'}\n"
     ]
    }
   ],
   "source": [
    "lista = ['red', 'green', 'blue']\n",
    "listb = ['#FF0000', '#008000', '#0000FF']\n",
    "\n",
    "hasil = {}\n",
    "hasil[lista[1]] = listb[1]\n",
    "hasil[lista[2]] = listb[2]\n",
    "hasil[lista[0]] = listb[0]\n",
    "\n",
    "print(hasil)"
   ]
  },
  {
   "cell_type": "code",
   "execution_count": 8,
   "metadata": {},
   "outputs": [
    {
     "name": "stdin",
     "output_type": "stream",
     "text": [
      "Masukkan nama file:  mbox-short.txt\n"
     ]
    },
    {
     "name": "stdout",
     "output_type": "stream",
     "text": [
      "{'stephen.marquard@uct.ac.za': 2, 'louis@media.berkeley.edu': 3, 'zqian@umich.edu': 4, 'rjlowe@iupui.edu': 2, 'cwen@iupui.edu': 5, 'gsilver@umich.edu': 3, 'wagnermr@iupui.edu': 1, 'antranig@caret.cam.ac.uk': 1, 'gopal.ramasammycook@gmail.com': 1, 'david.horwitz@uct.ac.za': 4, 'ray@media.berkeley.edu': 1}\n"
     ]
    }
   ],
   "source": [
    "nama_file = input(\"Masukkan nama file: \")\n",
    "\n",
    "file = open(nama_file, 'r')\n",
    "\n",
    "data_email = {}\n",
    "\n",
    "for i in file:\n",
    "    if i.startswith('From '):\n",
    "        email = i.split()[1]\n",
    "        data_email[email] = data_email.get(email, 0) + 1\n",
    "        \n",
    "file.close()\n",
    "\n",
    "print(data_email)\n"
   ]
  },
  {
   "cell_type": "code",
   "execution_count": 7,
   "metadata": {},
   "outputs": [
    {
     "name": "stdin",
     "output_type": "stream",
     "text": [
      "Masukkan nama file:  mbox-short.txt\n"
     ]
    },
    {
     "name": "stdout",
     "output_type": "stream",
     "text": [
      "{'uct.ac.za': 6, 'media.berkeley.edu': 4, 'umich.edu': 7, 'iupui.edu': 8, 'caret.cam.ac.uk': 1, 'gmail.com': 1}\n"
     ]
    }
   ],
   "source": [
    "nama_file = input(\"Masukkan nama file: \")\n",
    "file = open(nama_file, 'r')\n",
    "\n",
    "data_domain = {}\n",
    "\n",
    "for i in file:\n",
    "    if i.startswith('From '):\n",
    "        email = i.split()[1]\n",
    "        domain = email.split('@')[1]\n",
    "        data_domain[domain] = data_domain.get(domain, 0) + 1\n",
    "\n",
    "file.close()\n",
    "\n",
    "print(data_domain)"
   ]
  }
 ],
 "metadata": {
  "kernelspec": {
   "display_name": "Python 3 (ipykernel)",
   "language": "python",
   "name": "python3"
  },
  "language_info": {
   "codemirror_mode": {
    "name": "ipython",
    "version": 3
   },
   "file_extension": ".py",
   "mimetype": "text/x-python",
   "name": "python",
   "nbconvert_exporter": "python",
   "pygments_lexer": "ipython3",
   "version": "3.12.1"
  }
 },
 "nbformat": 4,
 "nbformat_minor": 4
}
